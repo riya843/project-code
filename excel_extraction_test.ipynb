{
  "nbformat": 4,
  "nbformat_minor": 0,
  "metadata": {
    "colab": {
      "provenance": []
    },
    "kernelspec": {
      "name": "python3",
      "display_name": "Python 3"
    },
    "language_info": {
      "name": "python"
    }
  },
  "cells": [
    {
      "cell_type": "code",
      "execution_count": null,
      "metadata": {
        "id": "SJHyy55k-Ry7"
      },
      "outputs": [],
      "source": [
        "import pandas as pd\n",
        "import numpy as np"
      ]
    },
    {
      "cell_type": "code",
      "source": [
        "df = pd.read_csv('/content/Copy of IT_Service_Requests(1).csv', encoding='ISO-8859-1')\n",
        "print(df.head())"
      ],
      "metadata": {
        "colab": {
          "base_uri": "https://localhost:8080/"
        },
        "id": "6l42a2KQ-mh_",
        "outputId": "8192dfcf-2edb-44bd-d4b9-c6e173f3b261"
      },
      "execution_count": null,
      "outputs": [
        {
          "output_type": "stream",
          "name": "stdout",
          "text": [
            "   COMPLAINT_NO      COMPLAINT_DATE       ID_NO FAULTY_EQUIPMENT  \\\n",
            "0        183217  12-30-2015 4:58 PM  20151566.0               PC   \n",
            "1        183216  12-30-2015 4:54 PM  20150737.0          PRINTER   \n",
            "2        183215  12-30-2015 4:53 PM  20151055.0               PC   \n",
            "3        183214  12-30-2015 4:53 PM  20150735.0          PRINTER   \n",
            "4        183213  12-30-2015 4:51 PM  20150329.0               PC   \n",
            "\n",
            "             PROBLEM_TYPE                 PROBLEM_DESCRIPTION  \\\n",
            "0          Does not start      pc not lofin trust error  show   \n",
            "1  Other - Please Specify                    Printer off line   \n",
            "2          Does not start  new pc configration and domain add   \n",
            "3  Other - Please Specify                    Printer off line   \n",
            "4  Other - Please Specify                  .lst file not open   \n",
            "\n",
            "  NAME_OF_EQUIPMENT EQUIPMENT_MAKE SERVICE_COMPANY  ASSIGN_DATE  \\\n",
            "0  HIGHER RAM HP PC            NaN           WIPRO          NaN   \n",
            "1            PC GEN            NaN           WIPRO          NaN   \n",
            "2            PC GEN            NaN           WIPRO          NaN   \n",
            "3            PC GEN            NaN           WIPRO          NaN   \n",
            "4            PC GEN            NaN           WIPRO          NaN   \n",
            "\n",
            "        RESPONSE_DATE  RESPONSE_DESCRIPTION        SERVICE_DATE  \\\n",
            "0  12-30-2015 4:59 PM                   NaN  12-30-2015 4:59 PM   \n",
            "1  12-30-2015 4:55 PM                   NaN  12-30-2015 4:55 PM   \n",
            "2  12-30-2015 4:54 PM                   NaN  12-30-2015 4:54 PM   \n",
            "3  12-30-2015 4:54 PM                   NaN  12-30-2015 4:54 PM   \n",
            "4  12-30-2015 4:52 PM                   NaN  12-30-2015 4:52 PM   \n",
            "\n",
            "       REMEDY_DESCRIPTION SOLVED_PROBLEM_TYPE  \n",
            "0  currupt profile reset                OTHER  \n",
            "1         Changed setting               OTHER  \n",
            "2         config properly               OTHER  \n",
            "3          Resolved issue               OTHER  \n",
            "4        Changed setting                OTHER  \n"
          ]
        }
      ]
    },
    {
      "cell_type": "code",
      "source": [
        "df['PROBLEM_DESCRIPTION']"
      ],
      "metadata": {
        "colab": {
          "base_uri": "https://localhost:8080/"
        },
        "id": "iYqnDCdBrlZD",
        "outputId": "d443c53e-65d7-4927-eedb-bdd0a5fbbad6"
      },
      "execution_count": null,
      "outputs": [
        {
          "output_type": "execute_result",
          "data": {
            "text/plain": [
              "0                            pc not lofin trust error  show\n",
              "1                                          Printer off line\n",
              "2                        new pc configration and domain add\n",
              "3                                          Printer off line\n",
              "4                                        .lst file not open\n",
              "                                ...                        \n",
              "102559    microsoft word latest version - download in la...\n",
              "102560    Internet not working. New connection (shifting...\n",
              "102561            There is no network for checking e-mails.\n",
              "102562        There is no any network for checking e-mails.\n",
              "102563                                  network not working\n",
              "Name: PROBLEM_DESCRIPTION, Length: 102564, dtype: object"
            ]
          },
          "metadata": {},
          "execution_count": 5
        }
      ]
    },
    {
      "cell_type": "code",
      "source": [
        "len(df['PROBLEM_DESCRIPTION'].unique())"
      ],
      "metadata": {
        "colab": {
          "base_uri": "https://localhost:8080/"
        },
        "id": "ZJgHm4yTr3FN",
        "outputId": "01e84f71-4dd5-4c43-db20-ffcd029353f5"
      },
      "execution_count": null,
      "outputs": [
        {
          "output_type": "execute_result",
          "data": {
            "text/plain": [
              "56849"
            ]
          },
          "metadata": {},
          "execution_count": 7
        }
      ]
    },
    {
      "cell_type": "code",
      "source": [
        "len(df['FAULTY_EQUIPMENT'].unique())"
      ],
      "metadata": {
        "colab": {
          "base_uri": "https://localhost:8080/"
        },
        "id": "I2eNBNwbsd6w",
        "outputId": "3d7b20ff-42ff-4f85-ac32-1f99a1aae52a"
      },
      "execution_count": null,
      "outputs": [
        {
          "output_type": "execute_result",
          "data": {
            "text/plain": [
              "11"
            ]
          },
          "metadata": {},
          "execution_count": 8
        }
      ]
    },
    {
      "cell_type": "code",
      "source": [
        "len(df['PROBLEM_TYPE'].unique())"
      ],
      "metadata": {
        "colab": {
          "base_uri": "https://localhost:8080/"
        },
        "id": "lW3VBkGtstIJ",
        "outputId": "e364e8c1-275f-4aee-e44c-14a190d05527"
      },
      "execution_count": null,
      "outputs": [
        {
          "output_type": "execute_result",
          "data": {
            "text/plain": [
              "18"
            ]
          },
          "metadata": {},
          "execution_count": 9
        }
      ]
    },
    {
      "cell_type": "code",
      "source": [
        "len(df['NAME_OF_EQUIPMENT'].unique())"
      ],
      "metadata": {
        "colab": {
          "base_uri": "https://localhost:8080/"
        },
        "id": "puEx47Qzs2Pp",
        "outputId": "f0fe585f-0081-4896-8fa5-b3ad49a0c9fd"
      },
      "execution_count": null,
      "outputs": [
        {
          "output_type": "execute_result",
          "data": {
            "text/plain": [
              "3115"
            ]
          },
          "metadata": {},
          "execution_count": 10
        }
      ]
    },
    {
      "cell_type": "code",
      "source": [
        "len(df['SERVICE_COMPANY'].unique())"
      ],
      "metadata": {
        "colab": {
          "base_uri": "https://localhost:8080/"
        },
        "id": "lc2qEQ4Es9Gc",
        "outputId": "23d45b41-a643-442c-8d11-91027c76f766"
      },
      "execution_count": null,
      "outputs": [
        {
          "output_type": "execute_result",
          "data": {
            "text/plain": [
              "29"
            ]
          },
          "metadata": {},
          "execution_count": 11
        }
      ]
    },
    {
      "cell_type": "code",
      "source": [
        "len(df['REMEDY_DESCRIPTION'].unique())"
      ],
      "metadata": {
        "colab": {
          "base_uri": "https://localhost:8080/"
        },
        "id": "6lFRR54AtDKW",
        "outputId": "59b33b4a-a094-4a56-aba1-822cb3121ee3"
      },
      "execution_count": null,
      "outputs": [
        {
          "output_type": "execute_result",
          "data": {
            "text/plain": [
              "36402"
            ]
          },
          "metadata": {},
          "execution_count": 12
        }
      ]
    },
    {
      "cell_type": "code",
      "source": [
        "storage=[]\n",
        "for i in range(1,67442):\n",
        "  str_val=\"Problem in- \"+str(df['FAULTY_EQUIPMENT'][i])+\", Problem type is- \"+str(df['PROBLEM_TYPE'][i])+\", Problem description is- \" + str(df['PROBLEM_DESCRIPTION'][i])+ \", Name of Equipment- \" + str(df['NAME_OF_EQUIPMENT'][i]) + \", Service Company is- \" + str(df['SERVICE_COMPANY'][i])\n",
        "  storage.append(str_val)\n"
      ],
      "metadata": {
        "id": "56YUIXJW0apa"
      },
      "execution_count": null,
      "outputs": []
    },
    {
      "cell_type": "code",
      "source": [
        "storage[0]"
      ],
      "metadata": {
        "colab": {
          "base_uri": "https://localhost:8080/",
          "height": 53
        },
        "id": "e2cNQ5m74PuU",
        "outputId": "30c240c4-c1f8-4477-b957-e9c51292f6fe"
      },
      "execution_count": null,
      "outputs": [
        {
          "output_type": "execute_result",
          "data": {
            "text/plain": [
              "'Problem in- PRINTER, Problem type is- Other - Please Specify, Problem description is- Printer off line, Name of Equipment- PC GEN, Service Company is- WIPRO'"
            ],
            "application/vnd.google.colaboratory.intrinsic+json": {
              "type": "string"
            }
          },
          "metadata": {},
          "execution_count": 27
        }
      ]
    },
    {
      "cell_type": "code",
      "source": [
        "len(storage)"
      ],
      "metadata": {
        "colab": {
          "base_uri": "https://localhost:8080/"
        },
        "id": "yMP6pGCU4nCX",
        "outputId": "23bd2b40-5a34-4f48-e064-6dcb53f8f158"
      },
      "execution_count": null,
      "outputs": [
        {
          "output_type": "execute_result",
          "data": {
            "text/plain": [
              "67441"
            ]
          },
          "metadata": {},
          "execution_count": 28
        }
      ]
    },
    {
      "cell_type": "code",
      "source": [
        "storage[len(storage)-1]"
      ],
      "metadata": {
        "colab": {
          "base_uri": "https://localhost:8080/",
          "height": 36
        },
        "id": "CSHgHCuV4xie",
        "outputId": "2b0c5587-29ce-456a-822d-99162ea5fa10"
      },
      "execution_count": null,
      "outputs": [
        {
          "output_type": "execute_result",
          "data": {
            "text/plain": [
              "'Problem in- nan, Problem type is- nan, Problem description is- CPU MAKING NOISE, Name of Equipment- PC, Service Company is- WIPRO'"
            ],
            "application/vnd.google.colaboratory.intrinsic+json": {
              "type": "string"
            }
          },
          "metadata": {},
          "execution_count": 29
        }
      ]
    },
    {
      "cell_type": "code",
      "source": [
        "problems=storage"
      ],
      "metadata": {
        "id": "7ZtjhCbA5Wli"
      },
      "execution_count": null,
      "outputs": []
    },
    {
      "cell_type": "code",
      "source": [
        "answers=[]\n",
        "for i in range(1,67442):\n",
        "  answers.append(df['REMEDY_DESCRIPTION'][i])"
      ],
      "metadata": {
        "id": "R4mOlFnQ5f_-"
      },
      "execution_count": null,
      "outputs": []
    },
    {
      "cell_type": "code",
      "source": [
        "answers[0]"
      ],
      "metadata": {
        "colab": {
          "base_uri": "https://localhost:8080/",
          "height": 36
        },
        "id": "4HWVSq2Q6yio",
        "outputId": "9cd3cc1e-7e55-42ab-c1f0-db017b4f07e6"
      },
      "execution_count": null,
      "outputs": [
        {
          "output_type": "execute_result",
          "data": {
            "text/plain": [
              "'Changed setting'"
            ],
            "application/vnd.google.colaboratory.intrinsic+json": {
              "type": "string"
            }
          },
          "metadata": {},
          "execution_count": 34
        }
      ]
    }
  ]
}